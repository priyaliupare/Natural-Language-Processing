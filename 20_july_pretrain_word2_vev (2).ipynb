{
  "nbformat": 4,
  "nbformat_minor": 0,
  "metadata": {
    "colab": {
      "name": "20_july_pretrain_word2_vev.ipynb",
      "provenance": []
    },
    "kernelspec": {
      "name": "python3",
      "display_name": "Python 3"
    },
    "language_info": {
      "name": "python"
    },
    "accelerator": "GPU",
    "gpuClass": "standard"
  },
  "cells": [
    {
      "cell_type": "code",
      "execution_count": 1,
      "metadata": {
        "id": "JSe-ShGMde0M"
      },
      "outputs": [],
      "source": [
        "# Stanford’s GloVe Embedding"
      ]
    },
    {
      "cell_type": "code",
      "source": [
        "from gensim.models import KeyedVectors"
      ],
      "metadata": {
        "id": "DLXIepozd18L"
      },
      "execution_count": 3,
      "outputs": []
    },
    {
      "cell_type": "code",
      "source": [
        "!wget http://nlp.stanford.edu/data/glove.6B.zip"
      ],
      "metadata": {
        "colab": {
          "base_uri": "https://localhost:8080/"
        },
        "id": "a5Yj0vgteBo8",
        "outputId": "17f7e66e-dc82-40b7-e309-537fe9988918"
      },
      "execution_count": 3,
      "outputs": [
        {
          "output_type": "stream",
          "name": "stdout",
          "text": [
            "--2022-07-20 02:38:20--  http://nlp.stanford.edu/data/glove.6B.zip\n",
            "Resolving nlp.stanford.edu (nlp.stanford.edu)... 171.64.67.140\n",
            "Connecting to nlp.stanford.edu (nlp.stanford.edu)|171.64.67.140|:80... connected.\n",
            "HTTP request sent, awaiting response... 302 Found\n",
            "Location: https://nlp.stanford.edu/data/glove.6B.zip [following]\n",
            "--2022-07-20 02:38:20--  https://nlp.stanford.edu/data/glove.6B.zip\n",
            "Connecting to nlp.stanford.edu (nlp.stanford.edu)|171.64.67.140|:443... connected.\n",
            "HTTP request sent, awaiting response... 301 Moved Permanently\n",
            "Location: https://downloads.cs.stanford.edu/nlp/data/glove.6B.zip [following]\n",
            "--2022-07-20 02:38:21--  https://downloads.cs.stanford.edu/nlp/data/glove.6B.zip\n",
            "Resolving downloads.cs.stanford.edu (downloads.cs.stanford.edu)... 171.64.64.22\n",
            "Connecting to downloads.cs.stanford.edu (downloads.cs.stanford.edu)|171.64.64.22|:443... connected.\n",
            "HTTP request sent, awaiting response... 200 OK\n",
            "Length: 862182613 (822M) [application/zip]\n",
            "Saving to: ‘glove.6B.zip’\n",
            "\n",
            "glove.6B.zip        100%[===================>] 822.24M  5.01MB/s    in 2m 39s  \n",
            "\n",
            "2022-07-20 02:41:00 (5.17 MB/s) - ‘glove.6B.zip’ saved [862182613/862182613]\n",
            "\n"
          ]
        }
      ]
    },
    {
      "cell_type": "code",
      "source": [
        "!unzip glove*.zip"
      ],
      "metadata": {
        "colab": {
          "base_uri": "https://localhost:8080/"
        },
        "id": "-ysQEEK-eHLu",
        "outputId": "d4869641-62b1-4c4f-82ef-10d43daba4e7"
      },
      "execution_count": 4,
      "outputs": [
        {
          "output_type": "stream",
          "name": "stdout",
          "text": [
            "Archive:  glove.6B.zip\n",
            "  inflating: glove.6B.50d.txt        \n",
            "  inflating: glove.6B.100d.txt       \n",
            "  inflating: glove.6B.200d.txt       \n",
            "  inflating: glove.6B.300d.txt       \n"
          ]
        }
      ]
    },
    {
      "cell_type": "code",
      "source": [
        "\n",
        "from gensim.scripts.glove2word2vec import glove2word2vec\n",
        "glove_input_file = 'glove.6B.100d.txt' \n",
        "word2vec_output_file = 'glove.6B.100d.txt.word2vec' \n",
        "glove2word2vec(glove_input_file, word2vec_output_file)"
      ],
      "metadata": {
        "colab": {
          "base_uri": "https://localhost:8080/"
        },
        "id": "dW1UjR2Pe3vL",
        "outputId": "7eabdb7f-efe8-4eb8-ca15-204404174e58"
      },
      "execution_count": 5,
      "outputs": [
        {
          "output_type": "execute_result",
          "data": {
            "text/plain": [
              "(400000, 100)"
            ]
          },
          "metadata": {},
          "execution_count": 5
        }
      ]
    },
    {
      "cell_type": "code",
      "source": [
        "filename = 'glove.6B.100d.txt.word2vec'\n",
        "model = KeyedVectors.load_word2vec_format(filename, binary=False)"
      ],
      "metadata": {
        "id": "a02jgXq7fbHF"
      },
      "execution_count": 6,
      "outputs": []
    },
    {
      "cell_type": "code",
      "source": [
        "model.most_similar('apple')"
      ],
      "metadata": {
        "colab": {
          "base_uri": "https://localhost:8080/"
        },
        "id": "OYyD4PsZgsWI",
        "outputId": "8c20258d-5518-427b-8883-f4d70994cd0c"
      },
      "execution_count": 7,
      "outputs": [
        {
          "output_type": "execute_result",
          "data": {
            "text/plain": [
              "[('microsoft', 0.7449405789375305),\n",
              " ('ibm', 0.6821643710136414),\n",
              " ('intel', 0.6778088212013245),\n",
              " ('software', 0.6775422096252441),\n",
              " ('dell', 0.6741442680358887),\n",
              " ('pc', 0.6678153276443481),\n",
              " ('macintosh', 0.66175377368927),\n",
              " ('iphone', 0.6595611572265625),\n",
              " ('ipod', 0.6534676551818848),\n",
              " ('hewlett', 0.6516579985618591)]"
            ]
          },
          "metadata": {},
          "execution_count": 7
        }
      ]
    },
    {
      "cell_type": "code",
      "source": [
        "model.most_similar('apples')"
      ],
      "metadata": {
        "colab": {
          "base_uri": "https://localhost:8080/"
        },
        "id": "FO2ToknMg38M",
        "outputId": "74148fc2-9e6c-4101-aae4-479d5de9da4d"
      },
      "execution_count": 8,
      "outputs": [
        {
          "output_type": "execute_result",
          "data": {
            "text/plain": [
              "[('pears', 0.8060727119445801),\n",
              " ('mangoes', 0.7937251329421997),\n",
              " ('oranges', 0.7910455465316772),\n",
              " ('peaches', 0.7866174578666687),\n",
              " ('cherries', 0.7693214416503906),\n",
              " ('strawberries', 0.7389282584190369),\n",
              " ('melons', 0.7277671098709106),\n",
              " ('apricots', 0.7255706191062927),\n",
              " ('tomatoes', 0.72376549243927),\n",
              " ('potatoes', 0.7182415723800659)]"
            ]
          },
          "metadata": {},
          "execution_count": 8
        }
      ]
    },
    {
      "cell_type": "code",
      "source": [
        "model.most_similar('durga')"
      ],
      "metadata": {
        "colab": {
          "base_uri": "https://localhost:8080/"
        },
        "id": "yYp2voAkg_Cd",
        "outputId": "21abaa86-7bba-45c3-c2f8-ec76e79bef6b"
      },
      "execution_count": 9,
      "outputs": [
        {
          "output_type": "execute_result",
          "data": {
            "text/plain": [
              "[('puja', 0.7985782623291016),\n",
              " ('kali', 0.7884222269058228),\n",
              " ('devi', 0.7204644083976746),\n",
              " ('parvati', 0.6859340667724609),\n",
              " ('shiva', 0.6693297624588013),\n",
              " ('navratri', 0.649545431137085),\n",
              " ('pooja', 0.6358780860900879),\n",
              " ('goddess', 0.6346532702445984),\n",
              " ('saraswati', 0.6203272342681885),\n",
              " ('ganesha', 0.6175170540809631)]"
            ]
          },
          "metadata": {},
          "execution_count": 9
        }
      ]
    },
    {
      "cell_type": "code",
      "source": [
        "model.most_similar('modi')"
      ],
      "metadata": {
        "colab": {
          "base_uri": "https://localhost:8080/"
        },
        "id": "ffarcE6uhIOS",
        "outputId": "30ab4030-2f52-4140-c3a0-bc448532feeb"
      },
      "execution_count": 10,
      "outputs": [
        {
          "output_type": "execute_result",
          "data": {
            "text/plain": [
              "[('narendra', 0.7561359405517578),\n",
              " ('alkatiri', 0.6231592297554016),\n",
              " ('lalit', 0.6148896813392639),\n",
              " ('gujarat', 0.6068904399871826),\n",
              " ('nawaz', 0.5941665172576904),\n",
              " ('bjp', 0.5920788049697876),\n",
              " ('samak', 0.5841799378395081),\n",
              " ('somchai', 0.5836262702941895),\n",
              " ('advani', 0.5665984153747559),\n",
              " ('zia', 0.5625712871551514)]"
            ]
          },
          "metadata": {},
          "execution_count": 10
        }
      ]
    },
    {
      "cell_type": "code",
      "source": [
        "model.most_similar('bus')"
      ],
      "metadata": {
        "colab": {
          "base_uri": "https://localhost:8080/"
        },
        "id": "zu_Oozp-hL5P",
        "outputId": "be563b04-d07c-473b-8b01-cdd7ab2cb143"
      },
      "execution_count": 11,
      "outputs": [
        {
          "output_type": "execute_result",
          "data": {
            "text/plain": [
              "[('train', 0.8473865389823914),\n",
              " ('buses', 0.813403844833374),\n",
              " ('commuter', 0.7929051518440247),\n",
              " ('taxi', 0.7858030200004578),\n",
              " ('passenger', 0.7665839195251465),\n",
              " ('truck', 0.763300895690918),\n",
              " ('trains', 0.7610679268836975),\n",
              " ('car', 0.7372707724571228),\n",
              " ('rail', 0.7314960360527039),\n",
              " ('minibus', 0.7048986554145813)]"
            ]
          },
          "metadata": {},
          "execution_count": 11
        }
      ]
    },
    {
      "cell_type": "code",
      "source": [
        "result = model.most_similar(positive=['woman', 'king']\n",
        "                            , negative=['man']\n",
        "                            , topn=3) "
      ],
      "metadata": {
        "id": "yOd_dP83hTXu"
      },
      "execution_count": 12,
      "outputs": []
    },
    {
      "cell_type": "code",
      "source": [
        "result"
      ],
      "metadata": {
        "colab": {
          "base_uri": "https://localhost:8080/"
        },
        "id": "aTcDMxy8iI5S",
        "outputId": "a427ad74-0d27-406f-95eb-1920d29b11c0"
      },
      "execution_count": 13,
      "outputs": [
        {
          "output_type": "execute_result",
          "data": {
            "text/plain": [
              "[('queen', 0.7698541283607483),\n",
              " ('monarch', 0.6843380928039551),\n",
              " ('throne', 0.6755735874176025)]"
            ]
          },
          "metadata": {},
          "execution_count": 13
        }
      ]
    },
    {
      "cell_type": "code",
      "source": [
        "result = model.most_similar(positive=['sachin', 'tennis']\n",
        "                            , negative=['cricket']\n",
        "                            , topn=3)"
      ],
      "metadata": {
        "id": "ioUvw8p3iKmj"
      },
      "execution_count": 14,
      "outputs": []
    },
    {
      "cell_type": "code",
      "source": [
        "result"
      ],
      "metadata": {
        "colab": {
          "base_uri": "https://localhost:8080/"
        },
        "id": "rtWR6Vbyiw6m",
        "outputId": "0211da33-e413-470f-befb-5ad38416b622"
      },
      "execution_count": 15,
      "outputs": [
        {
          "output_type": "execute_result",
          "data": {
            "text/plain": [
              "[('kournikova', 0.5904943346977234),\n",
              " ('miyazato', 0.5722489953041077),\n",
              " ('safin', 0.5405170917510986)]"
            ]
          },
          "metadata": {},
          "execution_count": 15
        }
      ]
    },
    {
      "cell_type": "code",
      "source": [
        "# model.vocab\n",
        "# model.vocab.keys()"
      ],
      "metadata": {
        "id": "mR9G_I_2iyHD"
      },
      "execution_count": 16,
      "outputs": []
    },
    {
      "cell_type": "code",
      "source": [
        "!wget --load-cookies /tmp/cookies.txt \"https://docs.google.com/uc?export=download&confirm=$(wget --quiet --save-cookies /tmp/cookies.txt --keep-session-cookies --no-check-certificate 'https://docs.google.com/uc?export=download&id=1tRCGr5S-LTfJfA3B_Sg6DqH2GHSCRHbm' -O- | sed -rn 's/.*confirm=([0-9A-Za-z_]+).*/\\1\\n/p')&id=1tRCGr5S-LTfJfA3B_Sg6DqH2GHSCRHbm\" -O GoogleNews-vectors-negative300.bin.gz && rm -rf /tmp/cookies.txt"
      ],
      "metadata": {
        "colab": {
          "base_uri": "https://localhost:8080/"
        },
        "id": "53EXg3u2jLpr",
        "outputId": "fe4fc367-97b1-41af-fcde-e58330c11d81"
      },
      "execution_count": 17,
      "outputs": [
        {
          "output_type": "stream",
          "name": "stdout",
          "text": [
            "--2022-07-20 03:01:29--  https://docs.google.com/uc?export=download&confirm=t&id=1tRCGr5S-LTfJfA3B_Sg6DqH2GHSCRHbm\n",
            "Resolving docs.google.com (docs.google.com)... 142.250.148.138, 142.250.148.102, 142.250.148.139, ...\n",
            "Connecting to docs.google.com (docs.google.com)|142.250.148.138|:443... connected.\n",
            "HTTP request sent, awaiting response... 303 See Other\n",
            "Location: https://doc-14-1c-docs.googleusercontent.com/docs/securesc/ha0ro937gcuc7l7deffksulhg5h7mbp1/ucdpq1hrrdqec98t45j4pma3tqgv54ik/1658286075000/05586303041627589381/*/1tRCGr5S-LTfJfA3B_Sg6DqH2GHSCRHbm?e=download&uuid=e4670df1-3f07-4d96-adb4-1e3d47b96ef6 [following]\n",
            "Warning: wildcards not supported in HTTP.\n",
            "--2022-07-20 03:01:29--  https://doc-14-1c-docs.googleusercontent.com/docs/securesc/ha0ro937gcuc7l7deffksulhg5h7mbp1/ucdpq1hrrdqec98t45j4pma3tqgv54ik/1658286075000/05586303041627589381/*/1tRCGr5S-LTfJfA3B_Sg6DqH2GHSCRHbm?e=download&uuid=e4670df1-3f07-4d96-adb4-1e3d47b96ef6\n",
            "Resolving doc-14-1c-docs.googleusercontent.com (doc-14-1c-docs.googleusercontent.com)... 142.250.136.132, 2607:f8b0:4001:c34::84\n",
            "Connecting to doc-14-1c-docs.googleusercontent.com (doc-14-1c-docs.googleusercontent.com)|142.250.136.132|:443... connected.\n",
            "HTTP request sent, awaiting response... 200 OK\n",
            "Length: 1647046227 (1.5G) [application/x-gzip]\n",
            "Saving to: ‘GoogleNews-vectors-negative300.bin.gz’\n",
            "\n",
            "GoogleNews-vectors- 100%[===================>]   1.53G  89.3MB/s    in 16s     \n",
            "\n",
            "2022-07-20 03:01:45 (100 MB/s) - ‘GoogleNews-vectors-negative300.bin.gz’ saved [1647046227/1647046227]\n",
            "\n"
          ]
        }
      ]
    },
    {
      "cell_type": "code",
      "source": [
        "!gzip -d GoogleNews-vectors-negative300.bin.gz"
      ],
      "metadata": {
        "id": "n6u67MuCjaLO"
      },
      "execution_count": 18,
      "outputs": []
    },
    {
      "cell_type": "code",
      "source": [
        "filename = 'GoogleNews-vectors-negative300.bin'"
      ],
      "metadata": {
        "id": "IFHKjEKpjqQz"
      },
      "execution_count": 1,
      "outputs": []
    },
    {
      "cell_type": "code",
      "source": [
        "model = KeyedVectors.load_word2vec_format(filename, binary=True)"
      ],
      "metadata": {
        "id": "BN5Qyo7Kj6jn"
      },
      "execution_count": 4,
      "outputs": []
    },
    {
      "cell_type": "code",
      "source": [
        "model.vector_size"
      ],
      "metadata": {
        "colab": {
          "base_uri": "https://localhost:8080/"
        },
        "id": "aowU7_HfkFHx",
        "outputId": "20506402-8375-4609-9d88-85ab45136cd1"
      },
      "execution_count": 21,
      "outputs": [
        {
          "output_type": "execute_result",
          "data": {
            "text/plain": [
              "300"
            ]
          },
          "metadata": {},
          "execution_count": 21
        }
      ]
    },
    {
      "cell_type": "code",
      "source": [
        "# model.vocab.keys()"
      ],
      "metadata": {
        "id": "F7afbq_jkTfR"
      },
      "execution_count": 22,
      "outputs": []
    },
    {
      "cell_type": "code",
      "source": [
        "model.most_similar('bjp')"
      ],
      "metadata": {
        "colab": {
          "base_uri": "https://localhost:8080/"
        },
        "id": "ti_EtrEykZGe",
        "outputId": "f5760010-dc58-4f64-a9cc-6150cd6c7697"
      },
      "execution_count": 5,
      "outputs": [
        {
          "output_type": "execute_result",
          "data": {
            "text/plain": [
              "[('BJP', 0.7292343974113464),\n",
              " ('nitish', 0.729143500328064),\n",
              " ('ADMK', 0.704279899597168),\n",
              " ('manmohan_singh', 0.7038345336914062),\n",
              " ('sonia', 0.7023032307624817),\n",
              " ('bihar', 0.7009325623512268),\n",
              " ('Akalis', 0.6981334686279297),\n",
              " ('RJD', 0.6942098140716553),\n",
              " ('BJD_BJP', 0.6889923810958862),\n",
              " ('Telangana_Rashtra_Samithi', 0.6853076219558716)]"
            ]
          },
          "metadata": {},
          "execution_count": 5
        }
      ]
    },
    {
      "cell_type": "code",
      "source": [
        "result = model.most_similar(positive=['woman', 'king']\n",
        "                            , negative=['man']\n",
        "                            , topn=3) "
      ],
      "metadata": {
        "id": "G2MM7UtQknJQ"
      },
      "execution_count": 6,
      "outputs": []
    },
    {
      "cell_type": "code",
      "source": [
        "result"
      ],
      "metadata": {
        "colab": {
          "base_uri": "https://localhost:8080/"
        },
        "id": "-61YBwOtldKc",
        "outputId": "9b9e6be4-2637-4351-acaa-e646b8ea717a"
      },
      "execution_count": 7,
      "outputs": [
        {
          "output_type": "execute_result",
          "data": {
            "text/plain": [
              "[('queen', 0.7118192911148071),\n",
              " ('monarch', 0.6189674139022827),\n",
              " ('princess', 0.5902431011199951)]"
            ]
          },
          "metadata": {},
          "execution_count": 7
        }
      ]
    },
    {
      "cell_type": "code",
      "source": [
        "result = model.most_similar(positive=['sachin', 'tennis']\n",
        "                            , negative=['cricket']\n",
        "                            , topn=3)"
      ],
      "metadata": {
        "id": "wEBTlfO8le4X"
      },
      "execution_count": 8,
      "outputs": []
    },
    {
      "cell_type": "code",
      "source": [
        "result"
      ],
      "metadata": {
        "colab": {
          "base_uri": "https://localhost:8080/"
        },
        "id": "O6ODC9Uslj8h",
        "outputId": "9d604b20-d0b2-4164-e07c-880f602281ab"
      },
      "execution_count": 9,
      "outputs": [
        {
          "output_type": "execute_result",
          "data": {
            "text/plain": [
              "[('nadal', 0.6001622676849365),\n",
              " ('federer', 0.5613065958023071),\n",
              " ('Steffi_Graff', 0.5590043663978577)]"
            ]
          },
          "metadata": {},
          "execution_count": 9
        }
      ]
    },
    {
      "cell_type": "code",
      "source": [
        ""
      ],
      "metadata": {
        "id": "AT-JFgTbllQE"
      },
      "execution_count": null,
      "outputs": []
    }
  ]
}